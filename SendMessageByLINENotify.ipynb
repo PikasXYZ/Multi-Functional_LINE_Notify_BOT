{
  "nbformat": 4,
  "nbformat_minor": 0,
  "metadata": {
    "colab": {
      "provenance": [],
      "collapsed_sections": [
        "U_A891lSb80p",
        "RGgF4nR5bUtX"
      ],
      "include_colab_link": true
    },
    "kernelspec": {
      "name": "python3",
      "display_name": "Python 3"
    },
    "language_info": {
      "name": "python"
    },
    "widgets": {
      "application/vnd.jupyter.widget-state+json": {
        "79bc6ec38b9741ffae4145b11a1fda4b": {
          "model_module": "@jupyter-widgets/controls",
          "model_name": "ButtonModel",
          "model_module_version": "1.5.0",
          "state": {
            "_dom_classes": [],
            "_model_module": "@jupyter-widgets/controls",
            "_model_module_version": "1.5.0",
            "_model_name": "ButtonModel",
            "_view_count": null,
            "_view_module": "@jupyter-widgets/controls",
            "_view_module_version": "1.5.0",
            "_view_name": "ButtonView",
            "button_style": "",
            "description": "Send!",
            "disabled": false,
            "icon": "",
            "layout": "IPY_MODEL_2e33a20f91f548ce954a8b1a96fe7ca7",
            "style": "IPY_MODEL_bf8531fd34904979958fee3144b1971d",
            "tooltip": ""
          }
        },
        "2e33a20f91f548ce954a8b1a96fe7ca7": {
          "model_module": "@jupyter-widgets/base",
          "model_name": "LayoutModel",
          "model_module_version": "1.2.0",
          "state": {
            "_model_module": "@jupyter-widgets/base",
            "_model_module_version": "1.2.0",
            "_model_name": "LayoutModel",
            "_view_count": null,
            "_view_module": "@jupyter-widgets/base",
            "_view_module_version": "1.2.0",
            "_view_name": "LayoutView",
            "align_content": null,
            "align_items": null,
            "align_self": null,
            "border": null,
            "bottom": null,
            "display": null,
            "flex": null,
            "flex_flow": null,
            "grid_area": null,
            "grid_auto_columns": null,
            "grid_auto_flow": null,
            "grid_auto_rows": null,
            "grid_column": null,
            "grid_gap": null,
            "grid_row": null,
            "grid_template_areas": null,
            "grid_template_columns": null,
            "grid_template_rows": null,
            "height": null,
            "justify_content": null,
            "justify_items": null,
            "left": null,
            "margin": null,
            "max_height": null,
            "max_width": null,
            "min_height": null,
            "min_width": null,
            "object_fit": null,
            "object_position": null,
            "order": null,
            "overflow": null,
            "overflow_x": null,
            "overflow_y": null,
            "padding": null,
            "right": null,
            "top": null,
            "visibility": null,
            "width": null
          }
        },
        "bf8531fd34904979958fee3144b1971d": {
          "model_module": "@jupyter-widgets/controls",
          "model_name": "ButtonStyleModel",
          "model_module_version": "1.5.0",
          "state": {
            "_model_module": "@jupyter-widgets/controls",
            "_model_module_version": "1.5.0",
            "_model_name": "ButtonStyleModel",
            "_view_count": null,
            "_view_module": "@jupyter-widgets/base",
            "_view_module_version": "1.2.0",
            "_view_name": "StyleView",
            "button_color": null,
            "font_weight": ""
          }
        }
      }
    }
  },
  "cells": [
    {
      "cell_type": "markdown",
      "metadata": {
        "id": "view-in-github",
        "colab_type": "text"
      },
      "source": [
        "<a href=\"https://colab.research.google.com/github/PikasXYZ/Multi-Functional_LINE_Notify_BOT/blob/main/SendMessageByLINENotify.ipynb\" target=\"_parent\"><img src=\"https://colab.research.google.com/assets/colab-badge.svg\" alt=\"Open In Colab\"/></a>"
      ]
    },
    {
      "cell_type": "markdown",
      "source": [
        "#Import & Function"
      ],
      "metadata": {
        "id": "U_A891lSb80p"
      }
    },
    {
      "cell_type": "code",
      "source": [
        "#@title Import\n",
        "from google.colab import drive, files\n",
        "from IPython.display import Image, display, clear_output\n",
        "from time import sleep, localtime\n",
        "from ipywidgets import widgets\n",
        "import requests\n",
        "import os"
      ],
      "metadata": {
        "cellView": "form",
        "id": "25boknj-b8DM"
      },
      "execution_count": null,
      "outputs": []
    },
    {
      "cell_type": "code",
      "execution_count": null,
      "metadata": {
        "id": "hUtfrxhQXsEC",
        "cellView": "form"
      },
      "outputs": [],
      "source": [
        "#@title LINE Notify\n",
        "def LineNotify(token, msg = '', img_dir = '', stickerPackageId = None, stickerId = None):\n",
        "    headers = {\"Authorization\": \"Bearer \" + token} #token = API token of LINE Notify\n",
        "    params = {\n",
        "        'message': '\\n' + msg,\n",
        "        'stickerPackageId' : stickerPackageId, #stickerPackageId、stickerId (ref : Line Sticker List)\n",
        "        'stickerId' : stickerId\n",
        "    }\n",
        "    files = {'imageFile': open(img_dir, 'rb') if img_dir else None} #img to send\n",
        "\n",
        "    r = requests.post(\"https://notify-api.line.me/api/notify\", headers = headers, params = params, files = files)\n",
        "    status = {\n",
        "          200: \"Succeed!\",\n",
        "          400: \"Bad request\",\n",
        "          401: \"Invalid access token\",\n",
        "          500: \"Failure due to server error\"\n",
        "          } \n",
        "    print(f\"\\nstatus code : {r.status_code} (\", status[r.status_code] if r.status_code in status.keys() else \"Processed over time or stopped\",\")\", end = \"\")"
      ]
    },
    {
      "cell_type": "code",
      "source": [
        "#@title Interruption Preventing\n",
        "%%javascript\n",
        "function ClickConnect(){\n",
        "  console.log(\"Working\");\n",
        "  document\n",
        "  .querySelector(\"#top-toolbar > colab-connect-button\")\n",
        "  .shadowRoot\n",
        "  .querySelector(\"#connect\")\n",
        "  .click()\n",
        "}\n",
        "\n",
        "setInterval(ClickConnect,60000)"
      ],
      "metadata": {
        "id": "bBhqUbQDnLUo",
        "colab": {
          "base_uri": "https://localhost:8080/",
          "height": 17
        },
        "outputId": "f3de7fe2-2cce-4a11-eea3-ef6fe5113e37",
        "cellView": "form"
      },
      "execution_count": null,
      "outputs": [
        {
          "output_type": "display_data",
          "data": {
            "text/plain": [
              "<IPython.core.display.Javascript object>"
            ],
            "application/javascript": [
              "function ClickConnect(){\n",
              "  console.log(\"Working\");\n",
              "  document\n",
              "  .querySelector(\"#top-toolbar > colab-connect-button\")\n",
              "  .shadowRoot\n",
              "  .querySelector(\"#connect\")\n",
              "  .click()\n",
              "}\n",
              "\n",
              "setInterval(ClickConnect,60000)\n"
            ]
          },
          "metadata": {}
        }
      ]
    },
    {
      "cell_type": "markdown",
      "source": [
        "#Preprocessing"
      ],
      "metadata": {
        "id": "RGgF4nR5bUtX"
      }
    },
    {
      "cell_type": "code",
      "source": [
        "#@title Get LINE Notify API tokens\n",
        "#@markdown #####Here you can change the id and the API key (.json file) of Google Sheet or the path of txt, where LINE Notify API tokens are stored.\n",
        "#@markdown ##### ㅤ\n",
        "txt_path = \"/content/drive/MyDrive/LineNotifyTokens.txt\" #@param {type:\"string\"}\n",
        "GSheet_path = \"/content/drive/MyDrive/GSheet.json\" #@param {type:\"string\"}\n",
        "sheet_id = \"1GXjljdCh0tZ7xjgumzlj68iKdb8BG78P1VBFsaO-TQY\" #@param {type:\"string\"}\n",
        "#@markdown ##### ㅤ\n",
        "#@markdown #####If you don't wanna provide LINE Notify API tokens from Google Drive, you can just key in an usable one below. (Otherwise, **PLEASE KEEP THERE EMPTY TO AVOID ERROR.**)\n",
        "#@markdown ##### ㅤ\n",
        "LINE_Notify_API_token = \"\" #@param {type:\"string\"}\n",
        "\n",
        "if LINE_Notify_API_token:\n",
        "  tokens = {\"LINE_Notify_API_token\":LINE_Notify_API_token}\n",
        "\n",
        "else:\n",
        "  #Conneect to Google Drive\n",
        "  drive.mount('/content/drive')\n",
        "\n",
        "  #Get LINE Notify API tokens from certain txt in Google Drive \n",
        "  if os.path.exists(txt_path):\n",
        "    with open(txt_path, \"r\") as f:\n",
        "      tokens = {rl.split(\"\\t\")[0] : rl.split(\"\\t\")[1].strip() for rl in f.readlines()}\n",
        "  \n",
        "  else:\n",
        "    \n",
        "    #Get Google Sheets API Authorization\n",
        "    print(\"\\nInstalling neccesaries...\")\n",
        "    !pip install -q gspread \n",
        "    !pip install -q oauth2client\n",
        "    import gspread\n",
        "    from oauth2client.service_account import ServiceAccountCredentials as SAC\n",
        "\n",
        "    scopes = [\"https://spreadsheets.google.com/feeds\"]\n",
        "    credentials = SAC.from_json_keyfile_name(GSheet_path, scopes) #key location\n",
        "    client = gspread.authorize(credentials)\n",
        "    sheet = client.open_by_key(sheet_id) #The longest garbled character in the URL of Google Sheet\n",
        "    sheet = sheet.sheet1 #sheet name\n",
        "    data = sheet.get_all_values()\n",
        "    tokens = {row[0]: row[1] for row in data}\n",
        "\n",
        "if tokens:\n",
        "  print(\"Found tokens sucessfullly!\")\n",
        "else:\n",
        "  raise FileNotFoundError(f\"Cannot find tokens QAQ, plz check {txt_path} or Google sheet of the sheet id.\")"
      ],
      "metadata": {
        "id": "arO6S_wWxuYH",
        "colab": {
          "base_uri": "https://localhost:8080/"
        },
        "outputId": "c059d591-9a86-45b0-b33c-a81c2976d6c9",
        "cellView": "form"
      },
      "execution_count": null,
      "outputs": [
        {
          "output_type": "stream",
          "name": "stdout",
          "text": [
            "Mounted at /content/drive\n",
            "Found tokens sucessfullly!\n"
          ]
        }
      ]
    },
    {
      "cell_type": "markdown",
      "source": [
        "#Send Message"
      ],
      "metadata": {
        "id": "NhOI5AOQGRP4"
      }
    },
    {
      "cell_type": "code",
      "source": [
        "#@title Tokens\n",
        "for idx,key in enumerate(tokens.keys()):\n",
        "  print(f\"No.{idx+1} : {key} (value = {tokens[key][:10]}...)\")\n",
        "#@markdown ####Choose the token number you want to send messeage with:\n",
        "#@markdown ##### ㅤ\n",
        "token_number = 1 #@param {type:'integer'}\n",
        "token = tokens[list(tokens.keys())[token_number-1]]\n",
        "#@markdown ##### ㅤ\n",
        "#@markdown #####P.S. There're the numbers of your tokens and their names below."
      ],
      "metadata": {
        "colab": {
          "base_uri": "https://localhost:8080/"
        },
        "id": "CPfqbn2v9BMd",
        "outputId": "d6864196-ac5e-4b74-f724-4917c6912c72",
        "cellView": "form"
      },
      "execution_count": null,
      "outputs": [
        {
          "output_type": "stream",
          "name": "stdout",
          "text": [
            "No.1 : self (value = slCmVvfLn8...)\n",
            "No.2 : boss (value = kSeZEcnPeW...)\n",
            "No.3 : Xray (value = s3UaBhOA5K...)\n"
          ]
        }
      ]
    },
    {
      "cell_type": "code",
      "source": [
        "#@title Set Message to Send\n",
        "#@markdown ####Enter a message to send:\n",
        "#@markdown ##### ㅤ\n",
        "message = \"Never gonna give you up ~ \" #@param {type:'string'}\n",
        "#@markdown ##### ㅤ \n",
        "#@markdown ####Tick `add_sticker` and fill in `sticker_package_id` & `sticker_id` if you wanna send a sticker with your message.\n",
        "#@markdown #####ㅤP.S. You can find sticker package id & sticker id in [this website](https://developers.line.biz/en/docs/messaging-api/sticker-list/#sticker-definitions)  \n",
        "#@markdown #####ㅤ\n",
        "add_sticker = False #@param {type:'boolean'}\n",
        "if add_sticker:\n",
        "  sticker_package_id = 8522 #@param {type:'integer'}\n",
        "  sticker_id = 16581267 #@param {type:'integer'}"
      ],
      "metadata": {
        "id": "hEm-ApYsaWDs",
        "cellView": "form"
      },
      "execution_count": null,
      "outputs": []
    },
    {
      "cell_type": "code",
      "source": [
        "#@title Set Image to Send\n",
        "#@markdown #####Choose the way to provide image\n",
        "way = \"URL\" #@param [\"Upload\",\"URL\",\"Google Drive Path\"]{type:\"string\"}\n",
        "#@markdown #####ㅤ\n",
        "#@markdown #####If you choose **URL**, please provide image URL in `image_url`\n",
        "#@markdown #####ㅤ\n",
        "image_url = \"https://avatars.githubusercontent.com/u/120371636?v=4\" #@param {type:\"string\"}\n",
        "#@markdown #####ㅤ\n",
        "#@markdown #####If you choose **Google Drive Path**, please provide image Google Drive Path in `Google_Drive_Path`\n",
        "#@markdown #####ㅤ\n",
        "Google_Drive_Path = \"\" #@param {type:\"string\"}\n",
        "#@markdown #####ㅤ\n",
        "#@markdown #####If you choose **Upload**, please upload image(s) after running this cell. \n",
        "#@markdown #####ㅤ\n",
        "if way == \"Upload\":\n",
        "  uploaded = files.upload()\n",
        "  images = [name for name, data in uploaded.items()]\n",
        "  print(\"Upload successfully!\")\n",
        "\n",
        "elif way == \"URL\":\n",
        "  response = requests.get(image_url)\n",
        "  if response.status_code == 200:\n",
        "    with open('upload.jpg', 'wb') as f:\n",
        "        f.write(response.content)\n",
        "    images = ['upload.jpg']\n",
        "    print(f\"The image of {image_url} was saved as 'upload.jpg'.\")\n",
        "  else:\n",
        "    print(f\"The image of {image_url} is invalid, error code：{response.status_code}\")\n",
        "  \n",
        "elif way == \"Google Drive Path\":\n",
        "  #Conneect to Google Drive\n",
        "  drive.mount('/content/drive')\n",
        "  if os.path.exists(Google_Drive_Path):\n",
        "    print(\"Image found!\")\n",
        "    images = [Google_Drive_Path]\n",
        "  else:\n",
        "    raise FileNotFoundError(\"Image not found!\")\n",
        "\n",
        "for image in images:\n",
        "  print(\"\\nImage name : \", image)\n",
        "  display(Image(image))\n",
        "  "
      ],
      "metadata": {
        "colab": {
          "base_uri": "https://localhost:8080/",
          "height": 461
        },
        "cellView": "form",
        "id": "7ZgsRaaJdhxH",
        "outputId": "9a0e0b26-dc9c-41d8-a671-4a2d7fb39809"
      },
      "execution_count": null,
      "outputs": [
        {
          "output_type": "stream",
          "name": "stdout",
          "text": [
            "The image of https://avatars.githubusercontent.com/u/120371636?v=4 was saved as 'upload.jpg'.\n",
            "\n",
            "Image name :  upload.jpg\n"
          ]
        },
        {
          "output_type": "display_data",
          "data": {
            "image/jpeg": "[encoded data removed]",
            "text/plain": [
              "<IPython.core.display.Image object>"
            ]
          },
          "metadata": {}
        }
      ]
    },
    {
      "cell_type": "code",
      "source": [
        "#@title Set When to Send\n",
        "#@markdown ####Tick `send_at_the_appointed_time` and set when to send if you don't wanna send message now.\n",
        "#@markdown #####ㅤ\n",
        "send_at_the_appointed_time = False #@param {type:'boolean'}\n",
        "if send_at_the_appointed_time:\n",
        "  day = \"2023-03-19\" #@param {type:'date'}\n",
        "  y, m, d = (int(i) for i in day.split(\"-\"))\n",
        "  hour = 12 #@param {type:\"slider\", min:0, max:23, step:1}\n",
        "  min = 31 #@param {type:\"slider\", min:0, max:59, step:1}"
      ],
      "metadata": {
        "cellView": "form",
        "id": "DNbMi8DZ1aJC"
      },
      "execution_count": null,
      "outputs": []
    },
    {
      "cell_type": "code",
      "source": [
        "#@title Send Message!\n",
        "\n",
        "def SendMessage():\n",
        "  if send_at_the_appointed_time:\n",
        "    while(localtime().tm_year != y or localtime().tm_mon != m or localtime().tm_mday != d or localtime().tm_hour + 8 != hour or localtime().tm_min != min): #break if time's up\n",
        "      clear_output(wait = True)\n",
        "      print(f\"Appointed Time : {y}/{m:>2}/{d:>2}\\t{hour:>2}:{min:0>2}\")\n",
        "      print(f\"Current Time   : {localtime().tm_year}/{localtime().tm_mon:>2}/{localtime().tm_mday:>2}\\t{localtime().tm_hour+8:>2}:{localtime().tm_min:0>2}:{localtime().tm_sec:0>2}\")\n",
        "      sleep(1) #resting 1 sec for every loop\n",
        "      \n",
        "  LineNotify(token, message, stickerPackageId = sticker_package_id if add_sticker else None, stickerId = sticker_id if add_sticker else None)\n",
        "\n",
        "  for image in images:\n",
        "    LineNotify(token, image, img_dir = image)\n",
        "\n",
        "button = widgets.Button(description='Send!')\n",
        "button.on_click(lambda x: SendMessage())\n",
        "display(button)"
      ],
      "metadata": {
        "id": "b6gmXP6aG3Gy",
        "colab": {
          "base_uri": "https://localhost:8080/",
          "height": 49,
          "referenced_widgets": [
            "79bc6ec38b9741ffae4145b11a1fda4b",
            "2e33a20f91f548ce954a8b1a96fe7ca7",
            "bf8531fd34904979958fee3144b1971d"
          ]
        },
        "outputId": "365ed2ba-1d17-4b5d-9075-86658c1f0c9e",
        "cellView": "form"
      },
      "execution_count": null,
      "outputs": [
        {
          "output_type": "display_data",
          "data": {
            "text/plain": [
              "Button(description='Send!', style=ButtonStyle())"
            ],
            "application/vnd.jupyter.widget-view+json": {
              "version_major": 2,
              "version_minor": 0,
              "model_id": "79bc6ec38b9741ffae4145b11a1fda4b"
            }
          },
          "metadata": {}
        }
      ]
    }
  ]
}